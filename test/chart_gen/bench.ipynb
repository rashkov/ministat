{
 "cells": [
  {
   "cell_type": "code",
   "execution_count": null,
   "metadata": {},
   "outputs": [],
   "source": [
    "import glob\n",
    "import os\n",
    "import pandas as pd\n",
    "import matplotlib.pyplot as plt"
   ]
  },
  {
   "cell_type": "code",
   "execution_count": null,
   "metadata": {},
   "outputs": [],
   "source": [
    "data_dir = '../out/tables';\n",
    "df = None;\n",
    "with os.scandir(data_dir) as dirs:\n",
    "    for entry in dirs:\n",
    "        data_files = glob.glob(os.path.join(data_dir, entry.name, \"*.txt\"))\n",
    "        df2 = pd.concat(map(lambda file: pd.read_csv(file, sep='\\t'), data_files))\n",
    "        df2['executable'] = entry.name;\n",
    "        df2.set_index('num_datapoints', inplace=True, drop=False)\n",
    "        df2.sort_index(inplace=True)\n",
    "        if df is None:\n",
    "            df = df2\n",
    "        else:\n",
    "            df = df.append(df2, ignore_index=False)\n",
    "print(df)"
   ]
  },
  {
   "cell_type": "code",
   "execution_count": null,
   "metadata": {},
   "outputs": [],
   "source": [
    "for col in df.columns.values:\n",
    "    if col == 'executable' or col == 'num_datapoints':\n",
    "        continue\n",
    "    fig, ax = plt.subplots()\n",
    "    for exe in df['executable'].unique():\n",
    "        ( \n",
    "            df\n",
    "            .where(df['executable'] == exe)\n",
    "            .plot\n",
    "            .line(\n",
    "                ylabel=col,\n",
    "                y=col,\n",
    "                use_index=True,\n",
    "                ax=ax,\n",
    "                logx=True,\n",
    "                label=exe\n",
    "            )\n",
    "        )\n",
    "    filename = col.replace(' ', '_') + \".png\"\n",
    "    fig.savefig(\"../out/charts/\" + filename)"
   ]
  }
 ],
 "metadata": {
  "kernelspec": {
   "display_name": "Python 3",
   "language": "python",
   "name": "python3"
  },
  "language_info": {
   "codemirror_mode": {
    "name": "ipython",
    "version": 3
   },
   "file_extension": ".py",
   "mimetype": "text/x-python",
   "name": "python",
   "nbconvert_exporter": "python",
   "pygments_lexer": "ipython3",
   "version": "3.8.6"
  }
 },
 "nbformat": 4,
 "nbformat_minor": 4
}
